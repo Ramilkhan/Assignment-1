{
  "nbformat": 4,
  "nbformat_minor": 0,
  "metadata": {
    "colab": {
      "name": "Assignment2.ipynb",
      "provenance": [],
      "authorship_tag": "ABX9TyNLH+7ILCYObJtMvY9/OeuC",
      "include_colab_link": true
    },
    "kernelspec": {
      "name": "python3",
      "display_name": "Python 3"
    },
    "language_info": {
      "name": "python"
    }
  },
  "cells": [
    {
      "cell_type": "markdown",
      "metadata": {
        "id": "view-in-github",
        "colab_type": "text"
      },
      "source": [
        "<a href=\"https://colab.research.google.com/github/Ramilkhan/Assignment-1/blob/main/Assignment2.ipynb\" target=\"_parent\"><img src=\"https://colab.research.google.com/assets/colab-badge.svg\" alt=\"Open In Colab\"/></a>"
      ]
    },
    {
      "cell_type": "code",
      "metadata": {
        "id": "2xyJuOKBZ8eU"
      },
      "source": [
        "#Lottery RUN\n",
        "maxTicketsAvailable=int(input(\"Enter max no. of available tickets:\\n\"))\n",
        "participants=[]\n",
        "print(\"Enter Names of the Participants\")\n",
        "for i in range(maxTicketsAvailable):\n",
        "  data=input()\n",
        "  participants.append(data)\n",
        "\n",
        "import random\n",
        "winner=random.randint(0, maxTicketsAvailable-1)\n",
        "print(\"The Winner is:\\n\")\n",
        "participants[winner]"
      ],
      "execution_count": null,
      "outputs": []
    },
    {
      "cell_type": "code",
      "metadata": {
        "id": "uRFBG5rgbDPj"
      },
      "source": [
        ""
      ],
      "execution_count": null,
      "outputs": []
    }
  ]
}