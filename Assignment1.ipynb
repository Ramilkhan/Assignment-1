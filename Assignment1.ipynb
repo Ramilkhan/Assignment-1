{
  "nbformat": 4,
  "nbformat_minor": 0,
  "metadata": {
    "colab": {
      "name": "Assignment1.ipynb",
      "provenance": [],
      "authorship_tag": "ABX9TyNMtSFxlzl6JXFXUoQMAeYa",
      "include_colab_link": true
    },
    "kernelspec": {
      "name": "python3",
      "display_name": "Python 3"
    },
    "language_info": {
      "name": "python"
    }
  },
  "cells": [
    {
      "cell_type": "markdown",
      "metadata": {
        "id": "view-in-github",
        "colab_type": "text"
      },
      "source": [
        "<a href=\"https://colab.research.google.com/github/Ramilkhan/Assignment-1/blob/main/Assignment1.ipynb\" target=\"_parent\"><img src=\"https://colab.research.google.com/assets/colab-badge.svg\" alt=\"Open In Colab\"/></a>"
      ]
    },
    {
      "cell_type": "code",
      "metadata": {
        "colab": {
          "base_uri": "https://localhost:8080/"
        },
        "id": "7NNx3UgA9pR-",
        "outputId": "5111824d-9c3c-4c16-d963-86eda23589c5"
      },
      "source": [
        "a=int(input(\"Enter first Number\"))\n",
        "b=int(input(\"Enter 2nd Number\")) \n",
        "Sub1 = a-b\n",
        "print(\"Our Subtraction is\", Sub1)"
      ],
      "execution_count": null,
      "outputs": [
        {
          "output_type": "stream",
          "text": [
            "Enter first Number25\n",
            "Enter 2nd Number56\n",
            "Our Subtraction is -31\n"
          ],
          "name": "stdout"
        }
      ]
    },
    {
      "cell_type": "code",
      "metadata": {
        "id": "oAEsWuIZ_6Y2",
        "colab": {
          "base_uri": "https://localhost:8080/"
        },
        "outputId": "2ec32ada-0749-40c2-b759-e8b3ce77bad7"
      },
      "source": [
        "c=int(input(\"Enter first Number\"))\n",
        "d=int(input(\"Enter 2nd Number\")) \n",
        "Mul1= c*d\n",
        "print(\"Our Multiplication is\", Mul1)"
      ],
      "execution_count": null,
      "outputs": [
        {
          "output_type": "stream",
          "text": [
            "Enter first Number25\n",
            "Enter 2nd Number56\n",
            "Our Multiplication is 1400\n"
          ],
          "name": "stdout"
        }
      ]
    },
    {
      "cell_type": "code",
      "metadata": {
        "colab": {
          "base_uri": "https://localhost:8080/"
        },
        "id": "8ucUO8xek_V9",
        "outputId": "ec54404f-7dd8-463a-e6c8-6d04dd12536b"
      },
      "source": [
        "e=int(input(\"Enter first Number\"))\n",
        "f=int(input(\"Enter 2nd Number\")) \n",
        "Div= e/f\n",
        "print(\"our division is\", Div)"
      ],
      "execution_count": null,
      "outputs": [
        {
          "output_type": "stream",
          "text": [
            "Enter first Number25\n",
            "Enter 2nd Number56\n",
            "our division is 0.44642857142857145\n"
          ],
          "name": "stdout"
        }
      ]
    },
    {
      "cell_type": "code",
      "metadata": {
        "id": "QW-7-suMmGOE"
      },
      "source": [
        ""
      ],
      "execution_count": null,
      "outputs": []
    }
  ]
}